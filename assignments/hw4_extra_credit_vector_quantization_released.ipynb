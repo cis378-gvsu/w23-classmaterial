{
  "nbformat": 4,
  "nbformat_minor": 0,
  "metadata": {
    "colab": {
      "provenance": []
    },
    "kernelspec": {
      "name": "python3",
      "display_name": "Python 3"
    },
    "language_info": {
      "name": "python"
    }
  },
  "cells": [
    {
      "cell_type": "markdown",
      "source": [
        "# Extra Credit HW4\n",
        "## Vector Quantization\n",
        "Vector quantization is a unique technique.  In the examples we've looked at, feature vectors are of some fixed length (which isn't always the case).  For example, with our image classification tasks, we relied on all images being the same size.  Images are relatively easy to resample so they are all the same size, but that's not the case with all data.\n",
        "\n",
        "The general idea of vector quantization is that most signals exhibit some form of repetition, regardless of the length, scale, or speed.  Local patterns that are exhibited can say a lot about the signal.  In many cases it's not actually important where those local patterns occur, just which patterns are exhibited that are important (not all -- in speech for instance where they occur is crucially important).\n",
        "\n",
        "Vector quantization is very often coupled with clustering as a way to group similar small subpieces of a signal and see what a longer signal is composed of to identify the overall signal, which is often then used for classification.\n",
        "\n",
        "The general process for vector quantization is:\n",
        "1. Break training signals into small fixed size pieces\n",
        "2. Cluster the pieces using a clustering method like $k$-means.\n",
        "3. For new signals (that you wish to classify):\n",
        "   * Cut the new signal into pieces\n",
        "   * Record the cluster center of each piece\n",
        "   * Compute the distribution of the clusters in that signal (this could be visualized with something like a histogram if you wanted to visualize)\n",
        "   * Classify the resulting distribution with something like nearest neighbors classification (note -- the main difference here is that we aren't classifying the full signal, we are classifying the distribution of clusters in that signal.  For example, if I break up a signal into 30 pieces\n",
        "\n",
        "The goal of this problem is to apply vector quantization to understand accelerometer data.\n",
        "\n",
        "## Step 1: Read in the data\n",
        "\n",
        "In this problem, we are using a [modified version of one of the accelerometer dataset's on UCI's Machine Learning Dataset website](https://drive.google.com/drive/folders/1Mxc0uGHzmldgpiOXLSbBbacCUoL7z4HR?usp=sharing).  If you are curious, you can look at the [full version](https://archive.ics.uci.edu/ml/datasets/Dataset+for+ADL+Recognition+with+Wrist-worn+Accelerometer).  To make it easier to work with, I modified it by pruning down the data significantly to include only 4 different activities and a smaller subset of accelerometer data.\n",
        "\n",
        "For each activity, there are multiple accelerometers measurements of that data (each as a separate file that contains a @D array where each row is a measurement of x, y, and z)..\n",
        "\n",
        "The following code cell reads in the data for you and splits it into training and testing sets.  Each set is composed of 2 lists, one containing the labels and one containing the 2D arrays representing each piece of accelerometer data."
      ],
      "metadata": {
        "id": "49UYE_w3YegZ"
      }
    },
    {
      "cell_type": "code",
      "source": [
        "'''\n",
        "Note, to use this you need to:\n",
        "1. upload the activity-data folder to your google drive\n",
        "2. update this to wherever activity_data is on your google drive\n",
        "   (e.g. on mine it's in CIS378/hw4/activity-data)\n",
        "'''\n",
        "import os\n",
        "import matplotlib.pyplot as plt\n",
        "import numpy as np\n",
        "import random\n",
        "import sklearn\n",
        "from sklearn.cluster import KMeans\n",
        "from collections import Counter\n",
        "from google.colab import drive\n",
        "\n",
        "drive.mount('/content/gdrive')\n",
        "activity_dir = '/content/gdrive/MyDrive/CIS378/hw4/activity-data'\n",
        "fnames = os.listdir(activity_dir)\n",
        "accel_data = []\n",
        "labels = []\n",
        "for fname in fnames:\n",
        "  if fname != 'labels.txt':\n",
        "    accel_data.append(np.loadtxt(os.path.join(activity_dir, fname), delimiter=' '))\n",
        "  else:\n",
        "    f = open(os.path.join(activity_dir, fname), 'r')\n",
        "    lines = f.readlines()\n",
        "    for line in lines:\n",
        "      labels.append(line.strip().split(',')[1])\n",
        "\n",
        "\n",
        "random.seed(12345)\n",
        "accel_data_train = []\n",
        "accel_data_test = []\n",
        "labels_train = []\n",
        "labels_test = []\n",
        "split = random.choices(['train', 'test'], [.75, .25], k=len(labels))\n",
        "for i in range(len(split)):\n",
        "  if split[i] == 'train':\n",
        "    labels_train.append(labels[i])\n",
        "    accel_data_train.append(accel_data[i])\n",
        "  else:\n",
        "    labels_test.append(labels[i])\n",
        "    accel_data_test.append(accel_data[i])\n"
      ],
      "metadata": {
        "colab": {
          "base_uri": "https://localhost:8080/"
        },
        "id": "wrqQUkdud-Zy",
        "outputId": "f282cb6c-bc25-463c-8750-5500f5ea43ea"
      },
      "execution_count": 57,
      "outputs": [
        {
          "output_type": "stream",
          "name": "stdout",
          "text": [
            "Drive already mounted at /content/gdrive; to attempt to forcibly remount, call drive.mount(\"/content/gdrive\", force_remount=True).\n"
          ]
        }
      ]
    },
    {
      "cell_type": "markdown",
      "source": [
        "## Step 2:  Breaking Signals Into Pieces\n",
        "Each signal (one entry of the accel_data lists is a 2D array).  The following code breaks each signal up into smaller pieces (of size 32 x 3), throwing out the last bit if it isn't an even multiple of 32.\n",
        "\n",
        "These are all combined creating a 3D array of size $4408 \\times 32 \\times 3$ (e.g. 4408 pieces each of shape $32 \\times 3$)."
      ],
      "metadata": {
        "id": "l6Upa2YLpLIs"
      }
    },
    {
      "cell_type": "code",
      "source": [
        "pieces = []\n",
        "piece_len = 32\n",
        "npieces_per_signal = []\n",
        "\n",
        "for i in range(len(accel_data_train)):\n",
        "  npieces_per_signal.append(accel_data_train[i].shape[0]//piece_len)\n",
        "  for j in range(0,accel_data_train[i].shape[0]//piece_len):\n",
        "    pieces.append(accel_data_train[i][j*32:(j+1)*32])\n",
        "pieces = np.array(pieces)\n",
        "print(pieces.shape)"
      ],
      "metadata": {
        "colab": {
          "base_uri": "https://localhost:8080/"
        },
        "id": "rk1DoXZFpKcd",
        "outputId": "571aa263-1d66-4b8f-8638-dbb1825e1f64"
      },
      "execution_count": null,
      "outputs": [
        {
          "output_type": "stream",
          "name": "stdout",
          "text": [
            "(4408, 32, 3)\n"
          ]
        }
      ]
    },
    {
      "cell_type": "markdown",
      "source": [
        "To make this into a format amenable to use clustering on we need to reshape the individual pieces from $32 \\times 3$ to a flattened $96$.  This is very similar to how we handled the EMNIST images."
      ],
      "metadata": {
        "id": "XIt0C9MCsKp5"
      }
    },
    {
      "cell_type": "code",
      "source": [
        "pieces = pieces.reshape(pieces.shape[0], -1)"
      ],
      "metadata": {
        "id": "fJq2lL7WsGl-"
      },
      "execution_count": null,
      "outputs": []
    },
    {
      "cell_type": "markdown",
      "source": [
        "## Step 3:  Perform k-means clustering on the pieces\n",
        "\n",
        "Note, the below uses a fixed number of clusters (that is likely not the correct choice).  Once you understand how this code works, use one of the methods for choosing the number of clusters (e.g. Silhouette score analysis, etc.) to experiment with different values of $k$.\n",
        "\n",
        "Once you've determined how many clusters you should use, repeat what I do below with the chosen number of clusters"
      ],
      "metadata": {
        "id": "OmgZRyw7srmt"
      }
    },
    {
      "cell_type": "code",
      "source": [
        "model = KMeans(n_clusters=15)\n",
        "model.fit(pieces)\n",
        "cluster_labels = model.labels_"
      ],
      "metadata": {
        "colab": {
          "base_uri": "https://localhost:8080/"
        },
        "id": "Vs0M6vY1vtpl",
        "outputId": "cf51f87a-53e3-4a99-b289-3bc243903ca5"
      },
      "execution_count": 85,
      "outputs": [
        {
          "output_type": "stream",
          "name": "stderr",
          "text": [
            "/usr/local/lib/python3.9/dist-packages/sklearn/cluster/_kmeans.py:870: FutureWarning: The default value of `n_init` will change from 10 to 'auto' in 1.4. Set the value of `n_init` explicitly to suppress the warning\n",
            "  warnings.warn(\n"
          ]
        }
      ]
    },
    {
      "cell_type": "code",
      "source": [
        "distributions = []\n",
        "running_counts = np.cumsum([0] + npieces_per_signal)\n",
        "for i in range(1,len(accel_data_train)+1):\n",
        "  cluster_labels_piece = cluster_labels[running_counts[i-1]:running_counts[i]]\n",
        "  values, counts = np.unique(cluster_labels_piece, return_counts=True)\n",
        "  distributions_piece = np.zeros(k)\n",
        "  for idx in range(len(values)):\n",
        "    distributions_piece[values[idx]] = counts[idx]\n",
        "  distributions_piece /= np.sum(distributions_piece)\n",
        "  distributions.append(distributions_piece)\n",
        "\n",
        "\n",
        "plt.subplot(221)\n",
        "plt.plot(distributions[1], 'bo')\n",
        "plt.title(labels_train[1])\n",
        "\n",
        "plt.subplot(222)\n",
        "plt.plot(distributions[30], 'bo')\n",
        "plt.title(labels_train[30])\n",
        "\n",
        "plt.subplot(223)\n",
        "plt.plot(distributions[150], 'bo')\n",
        "plt.title(labels_train[150])\n",
        "\n",
        "plt.subplot(224)\n",
        "plt.plot(distributions[250], 'bo')\n",
        "plt.title(labels_train[250])\n",
        "plt.tight_layout()\n",
        "plt.show()"
      ],
      "metadata": {
        "colab": {
          "base_uri": "https://localhost:8080/",
          "height": 551
        },
        "id": "BGpeTY92wFhE",
        "outputId": "aa78ec9e-d3c4-4754-8439-0bc9f02eac71"
      },
      "execution_count": 86,
      "outputs": [
        {
          "output_type": "display_data",
          "data": {
            "text/plain": [
              "<Figure size 800x550 with 4 Axes>"
            ],
            "image/png": "[encoded data removed]"
          },
          "metadata": {}
        }
      ]
    },
    {
      "cell_type": "code",
      "source": [
        "# TODO - experiment with different numbers of clusters"
      ],
      "metadata": {
        "id": "OaFY6_KB59jU"
      },
      "execution_count": null,
      "outputs": []
    },
    {
      "cell_type": "markdown",
      "source": [
        "## Step 4: Breaking new signals into pieces and identifying distributions\n",
        "\n",
        "1. To classify the new (e.g. test set) signals, we must first break each of them into pieces (each piece needs to be the same size as the pieces above).  You will want to keep the ones for each signal separately.\n",
        "\n",
        "2. For all signals, go through all pieces in that signal and identify which cluster those signals belong to.\n",
        "\n",
        "3. Compute a distribution of the clusters the pieces in that signal belong to.  Save this distribution for each new (e.g. test set) signal.\n"
      ],
      "metadata": {
        "id": "mtg44z5asw4s"
      }
    },
    {
      "cell_type": "code",
      "source": [
        "# TODO"
      ],
      "metadata": {
        "id": "GVHGDT7F0jvV"
      },
      "execution_count": null,
      "outputs": []
    },
    {
      "cell_type": "markdown",
      "source": [
        "## Step 5:  Classify the new signals based on their distributions\n",
        "Use a classification technique such as k-nearest neighbors to classify the new signals (by looking for the closest distributions in the training set to its distribution).  Note, the $k$ used here likely won't be the same value of $k$ used in $k$-means.\n",
        "\n",
        "Explain how you chose $k$ (make sure not to touch the test set to determine what $k$ to choose)."
      ],
      "metadata": {
        "id": "Y4CbUU8N0kRw"
      }
    },
    {
      "cell_type": "code",
      "source": [
        "# TODO"
      ],
      "metadata": {
        "id": "LYRxPZst44z3"
      },
      "execution_count": null,
      "outputs": []
    },
    {
      "cell_type": "markdown",
      "source": [
        "## Step 6: Compute and evaluate accuracy on the test set\n",
        "Using the true labels for the test set, how accurate is this vector quantization model?   "
      ],
      "metadata": {
        "id": "irKJJnRR45cB"
      }
    },
    {
      "cell_type": "code",
      "source": [
        "# TODO"
      ],
      "metadata": {
        "id": "hkjaJUL46gZr"
      },
      "execution_count": null,
      "outputs": []
    }
  ]
}